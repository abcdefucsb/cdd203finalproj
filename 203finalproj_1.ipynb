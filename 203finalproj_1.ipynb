{
 "cells": [
  {
   "cell_type": "code",
   "execution_count": null,
   "metadata": {
    "colab": {
     "base_uri": "https://localhost:8080/"
    },
    "executionInfo": {
     "elapsed": 11673,
     "status": "ok",
     "timestamp": 1732665870012,
     "user": {
      "displayName": "Tushar Agashe",
      "userId": "02721890509697442382"
     },
     "user_tz": 480
    },
    "id": "GoO19pKkunRM",
    "outputId": "4cc0f033-1f75-4a32-888a-387dd8e6a740"
   },
   "outputs": [],
   "source": [
    "!pip install PyTDC smiles-encoder scipy"
   ]
  },
  {
   "cell_type": "code",
   "execution_count": null,
   "metadata": {
    "colab": {
     "base_uri": "https://localhost:8080/"
    },
    "executionInfo": {
     "elapsed": 4486,
     "status": "ok",
     "timestamp": 1732665930684,
     "user": {
      "displayName": "Tushar Agashe",
      "userId": "02721890509697442382"
     },
     "user_tz": 480
    },
    "id": "_-KGNU6378NU",
    "outputId": "23e1f0cb-cd30-423c-843b-ff5d9d2ea0df"
   },
   "outputs": [],
   "source": [
    "!pip install scikit-learn"
   ]
  },
  {
   "cell_type": "code",
   "execution_count": null,
   "metadata": {
    "colab": {
     "base_uri": "https://localhost:8080/",
     "height": 476
    },
    "executionInfo": {
     "elapsed": 361,
     "status": "ok",
     "timestamp": 1732671691096,
     "user": {
      "displayName": "Tushar Agashe",
      "userId": "02721890509697442382"
     },
     "user_tz": 480
    },
    "id": "-mjpfR9kvVqU",
    "outputId": "75746f03-9ed5-4c6c-c609-afd4622e0088"
   },
   "outputs": [],
   "source": [
    "from tdc.single_pred import Tox\n",
    "from sklearn import svm\n",
    "\n",
    "data = Tox(name = 'hERG')\n",
    "df = data.get_data()\n",
    "df\n",
    "\n",
    "\n",
    "#https://pypi.org/project/smiles-encoder/ smile encoder\n",
    "#workflow\n",
    "# encode SMILES strings --> binary classification\n",
    "#timeline\n",
    "#gather packages needed\n",
    "#have funtional model\n",
    "# refine model parameters\n",
    "# create"
   ]
  },
  {
   "cell_type": "code",
   "execution_count": null,
   "metadata": {
    "executionInfo": {
     "elapsed": 137,
     "status": "ok",
     "timestamp": 1732671712408,
     "user": {
      "displayName": "Tushar Agashe",
      "userId": "02721890509697442382"
     },
     "user_tz": 480
    },
    "id": "kGmblugwvqjK"
   },
   "outputs": [],
   "source": [
    "split = data.get_split()\n",
    "smiles_list_train = split['train']['Drug'].tolist()\n",
    "Y_train = split['train']['Y']\n",
    "Y_train"
   ]
  },
  {
   "cell_type": "code",
   "execution_count": null,
   "metadata": {
    "colab": {
     "background_save": true,
     "output_embedded_package_id": "1dopk0439zb9fudKo-O07x5nmwQglkPPN"
    },
    "id": "vmTUfg34n8id",
    "outputId": "d2e83a27-ecfe-4033-92f8-f6338817d917"
   },
   "outputs": [],
   "source": [
    "from smiles_encoder import SmilesEncoder\n",
    "from sklearn.metrics import accuracy_score, classification_report\n",
    "from sklearn.model_selection import GridSearchCV\n",
    "from sklearn.svm import SVC\n",
    "import numpy as np\n",
    "\n",
    "\n",
    "#encode into vectors using one hot encoding \n",
    "encoder = SmilesEncoder(smiles_list_train)\n",
    "X_train = encoder.encode_many(smiles_list_train)\n",
    "encoder_valid = SmilesEncoder(split['valid']['Drug'].tolist())\n",
    "X_valid = encoder_valid.encode_many(split['valid']['Drug'].tolist())\n",
    "Y_train = split['train']['Y']\n",
    "\n",
    "\n",
    "# Pad sequences to a fixed length\n",
    "# Step 1: Determine maximum sizes\n",
    "max_outer = max(max(len(sample) for sample in X_train), max(len(sample) for sample in X_valid))  # Outer dimension\n",
    "max_inner = max(\n",
    "    max(len(inner) for sample in X_train for inner in sample),\n",
    "    max(len(inner) for sample in X_valid for inner in sample),\n",
    ")  # Inner dimension\n",
    "\n",
    "# Step 2: Function to pad both outer and inner dimensions\n",
    "def pad_samples(data, max_outer, max_inner):\n",
    "    padded = []\n",
    "    for sample in data:\n",
    "        # Pad inner lists to max_inner\n",
    "        padded_sample = [inner + [0] * (max_inner - len(inner)) for inner in sample]\n",
    "        # Pad the outer list to max_outer with zero-filled inner lists\n",
    "        padded_sample += [[0] * max_inner] * (max_outer - len(sample))\n",
    "        padded.append(padded_sample)\n",
    "    return np.array(padded)\n",
    "# Apply padding to both datasets\n",
    "X_train_padded = pad_samples(X_train, max_outer, max_inner)\n",
    "X_val_padded = pad_samples(X_valid, max_outer, max_inner)\n",
    "\n",
    "\n",
    "#flatten \n",
    "X_train_final = [np.array(sample).flatten() for sample in X_train_padded]\n",
    "\n",
    "#train SVM\n",
    "svm = SVC()\n",
    "param_grid = {'C': [0.1, 1, 10], 'gamma': [1, 0.1, 0.01], 'kernel': ['linear', 'poly', 'rbf', 'sigmoid']}\n",
    "grid = GridSearchCV(estimator=svm, param_grid=param_grid, scoring='accuracy', cv=5)\n",
    "grid.fit(X_train_final, Y_train)\n",
    "\n",
    "# Evaluate\n",
    "print(\"Best parameters:\", grid.best_params_)\n",
    "print(\"Best cross-validation score:\", grid.best_score_)\n",
    "\n"
   ]
  },
  {
   "cell_type": "code",
   "execution_count": null,
   "metadata": {},
   "outputs": [],
   "source": [
    "\n",
    "X_valid_final = [np.array(sample).flatten() for sample in X_val_padded]\n",
    "Y_valid = split['valid']['Y']\n",
    "\n",
    "# Evaluate on validation data\n",
    "best_model = grid.best_estimator_\n",
    "Y_pred_valid = best_model.predict(X_valid_final)\n",
    "\n",
    "# Validation metrics\n",
    "print(\"Validation accuracy:\", accuracy_score(Y_valid, Y_pred_valid))\n",
    "print(\"Classification report:\\n\", classification_report(Y_valid, Y_pred_valid))"
   ]
  }
 ],
 "metadata": {
  "colab": {
   "name": "",
   "version": ""
  },
  "kernelspec": {
   "display_name": "cdd203",
   "language": "python",
   "name": "python3"
  },
  "language_info": {
   "codemirror_mode": {
    "name": "ipython",
    "version": 3
   },
   "file_extension": ".py",
   "mimetype": "text/x-python",
   "name": "python",
   "nbconvert_exporter": "python",
   "pygments_lexer": "ipython3",
   "version": "3.8.20"
  }
 },
 "nbformat": 4,
 "nbformat_minor": 0
}
